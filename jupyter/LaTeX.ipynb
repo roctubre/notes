{
 "cells": [
  {
   "cell_type": "markdown",
   "metadata": {},
   "source": [
    "# Examples\n",
    "\n",
    "\n",
    "| Name              | Formatted | LaTeX Syntax |\n",
    "| ----------------- | ----------------- | ---- |\n",
    "| Pythagorean theorem | $$c^2 = { a^{2} + b^{2} }$$ | ```$c^2 = {a^{2}+b^{2}}$```  |\n",
    "| Sigmoid function    | $$\\frac{1}{1+e^{-x}}$$         | ```$\\dfrac{1}{1+e^{-x}}$```     | \n",
    "| Sum example         | $$\\sum_{n=0}^{N} x^2$$         | ```$\\sum_{n=0}^{\\infty} x^2$``` |\n"
   ]
  }
 ],
 "metadata": {
  "kernelspec": {
   "display_name": "Python 3",
   "language": "python",
   "name": "python3"
  },
  "language_info": {
   "codemirror_mode": {
    "name": "ipython",
    "version": 3
   },
   "file_extension": ".py",
   "mimetype": "text/x-python",
   "name": "python",
   "nbconvert_exporter": "python",
   "pygments_lexer": "ipython3",
   "version": "3.7.0"
  }
 },
 "nbformat": 4,
 "nbformat_minor": 2
}
