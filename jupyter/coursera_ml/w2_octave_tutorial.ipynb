{
 "cells": [
  {
   "cell_type": "markdown",
   "metadata": {},
   "source": [
    "# Octave/Matlab Tutorial"
   ]
  },
  {
   "cell_type": "markdown",
   "metadata": {},
   "source": [
    "## Basic Operations"
   ]
  },
  {
   "cell_type": "code",
   "execution_count": null,
   "metadata": {},
   "outputs": [],
   "source": [
    "PS('>> ')   # Change prompt prefix\n",
    "exit # Exits octave\n",
    "pwd # show current working dir"
   ]
  },
  {
   "cell_type": "markdown",
   "metadata": {},
   "source": [
    "## Control Statements"
   ]
  },
  {
   "cell_type": "code",
   "execution_count": null,
   "metadata": {},
   "outputs": [],
   "source": [
    "v = zeros(10,1) # create 10x1 matrix with zeros\n",
    "\n",
    "# FOR loop\n",
    "for i=1:10,     # loops for i from 1 to 10\n",
    "    v(i) = 2^i;\n",
    "end;\n",
    "\n",
    "# setting indices\n",
    "indices=1:10\n",
    "for i=indices,\n",
    "    disp(i);\n",
    "    # break; / continue;\n",
    "end;\n",
    "\n",
    "# WHILE loop\n",
    "i = 1;\n",
    "while i <= 5,\n",
    "    v(i) = 100;\n",
    "    i = i + 1;\n",
    "    # break; / continue;\n",
    "end;\n",
    "\n",
    "# IF statement\n",
    "v(1) = 2\n",
    "if v(1) == 1,\n",
    "    disp('The value is one');\n",
    "elseif v(1) == 2\n",
    "    disp('The value is two');\n",
    "else\n",
    "    disp('The value is something else');\n",
    "end;\n",
    "\n"
   ]
  },
  {
   "cell_type": "markdown",
   "metadata": {},
   "source": [
    "### Functions\n",
    "Create a file: *functionname.m*\n",
    "\n",
    "Make sure you are in the same directory as the file"
   ]
  },
  {
   "cell_type": "code",
   "execution_count": null,
   "metadata": {},
   "outputs": [],
   "source": [
    "# function file definition\n",
    "function y = squareThisNumber(x)\n",
    "y = x^2\n",
    "\n",
    "# calling this function\n",
    "a = squareThisNumber(x)\n",
    "\n",
    "\n",
    "# function file definition #2\n",
    "function [y1, y2] = squareAndCubeThisNumber(x)\n",
    "y1 = x^2\n",
    "y2 = x^3\n",
    "\n",
    "# calling this function\n",
    "[a, b] = squareAndCubeThisNumber(x)\n"
   ]
  },
  {
   "cell_type": "code",
   "execution_count": null,
   "metadata": {},
   "outputs": [],
   "source": [
    "# Octave search path (advanced/optional)\n",
    "addpath('C:\\path\\to\\dir')\n"
   ]
  },
  {
   "cell_type": "markdown",
   "metadata": {},
   "source": [
    "## Vectorization"
   ]
  },
  {
   "cell_type": "markdown",
   "metadata": {},
   "source": [
    "Example:\n",
    "\n",
    "$h_\\theta(x)=\\sum_{j=0}^n\\theta_{j}x_{j}$"
   ]
  },
  {
   "cell_type": "code",
   "execution_count": null,
   "metadata": {},
   "outputs": [],
   "source": [
    "# Unvectorized implementation\n",
    "prediction = 0.0;\n",
    "for j = 1:n+1,\n",
    "    prediction = prediction + theta(j) * x(j)\n",
    "end;\n",
    "\n",
    "# Vectorized implementation\n",
    "# transposed theta * x\n",
    "prediction = theta' * x \n"
   ]
  },
  {
   "cell_type": "markdown",
   "metadata": {},
   "source": [
    "### Gradient descent\n",
    "$ \\theta_j:=\\theta_j - \\alpha\\frac{1}{m}\\sum_{i=0}^m(h_\\theta(x^{(i)})-y^{(i)})x_{j}^{(i)} $"
   ]
  }
 ],
 "metadata": {
  "kernelspec": {
   "display_name": "Python 3",
   "language": "python",
   "name": "python3"
  },
  "language_info": {
   "codemirror_mode": {
    "name": "ipython",
    "version": 3
   },
   "file_extension": ".py",
   "mimetype": "text/x-python",
   "name": "python",
   "nbconvert_exporter": "python",
   "pygments_lexer": "ipython3",
   "version": "3.7.0"
  }
 },
 "nbformat": 4,
 "nbformat_minor": 2
}
