{
 "cells": [
  {
   "cell_type": "markdown",
   "metadata": {},
   "source": [
    "# Classification"
   ]
  },
  {
   "cell_type": "markdown",
   "metadata": {},
   "source": [
    "## Logistic Regression\n",
    "\n",
    "Want $0\\leq h_\\theta(x) \\leq 1$\n",
    "\n",
    "### Interpretation of Hyphothesis Output\n",
    "\n",
    "$h_\\theta(x)=P(y=1|x;\\theta)$ \n",
    "\n",
    "Probabilty that y = 1, given x, parameterizsed by $\\theta$\n",
    "\n",
    "$P(y=1|x;\\theta)+P(y=0|x;\\theta)=1$ \n",
    "\n",
    "$P(y=0|x;\\theta) = 1 - P(y=1|x;\\theta)$\n",
    "\n",
    "### Sigmoid function <> Logistic function\n",
    "\n",
    "$h_\\theta(x)=\\frac{1}{1+e^{-\\theta^Tx}}$\n",
    "\n",
    "\n",
    "#### Decision Boundary\n",
    "\n",
    "The decision boundary is the line that separates the area where y = 0 and where y = 1. It is created by our hypothesis function.\n",
    "\n",
    "In order to get our discrete 0 or 1 classification, we can translate the output of the hypothesis function as follows:\n",
    "\n",
    "$h_\\theta(x)\\geq0.5\\rightarrow y=1$\n",
    "\n",
    "$h_\\theta(x)<0.5\\rightarrow y=0$\n",
    "\n",
    "Remember.\n",
    "\n",
    "$z=0,e^0=1\\Rightarrow g(z)=0.5$\n",
    "\n",
    "$z\\rightarrow\\infty,e^{-\\infty}=0\\Rightarrow g(z)=1$\n",
    "\n",
    "$z\\rightarrow-\\infty,e^{\\infty}=\\infty\\Rightarrow g(z)=0$\n",
    "\n",
    "This means:\n",
    "\n",
    "$h_\\theta(x)=g(\\theta^Tx)\\geq0.5$\n",
    "\n",
    "when $\\theta^Tx \\geq0$\n",
    "\n",
    "We can now say:\n",
    "\n",
    "**$\\theta^Tx\\geq0\\Rightarrow y=1$**\n",
    "\n",
    "**$\\theta^Tx<0\\Rightarrow y=0$**"
   ]
  }
 ],
 "metadata": {
  "kernelspec": {
   "display_name": "Python 3",
   "language": "python",
   "name": "python3"
  },
  "language_info": {
   "codemirror_mode": {
    "name": "ipython",
    "version": 3
   },
   "file_extension": ".py",
   "mimetype": "text/x-python",
   "name": "python",
   "nbconvert_exporter": "python",
   "pygments_lexer": "ipython3",
   "version": "3.7.0"
  }
 },
 "nbformat": 4,
 "nbformat_minor": 2
}
